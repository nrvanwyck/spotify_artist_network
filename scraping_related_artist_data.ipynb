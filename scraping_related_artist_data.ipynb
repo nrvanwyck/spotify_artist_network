{
 "cells": [
  {
   "cell_type": "code",
   "execution_count": 1,
   "metadata": {},
   "outputs": [],
   "source": [
    "import os\n",
    "from dotenv import load_dotenv\n",
    "import spotipy\n",
    "import spotipy.util as util\n",
    "from spotipy.oauth2 import SpotifyClientCredentials\n",
    "\n",
    "load_dotenv()\n",
    "\n",
    "USERNAME = os.getenv('USERNAME')\n",
    "SPOTIPY_CLIENT_ID = os.getenv('SPOTIPY_CLIENT_ID')\n",
    "SPOTIPY_CLIENT_SECRET = os.getenv('SPOTIPY_CLIENT_SECRET')\n",
    "SPOTIPY_REDIRECT_URI = os.getenv('SPOTIPY_REDIRECT_URI')\n",
    "\n",
    "token = util.prompt_for_user_token(USERNAME, 'user-library-read')\n",
    "\n",
    "spotify = spotipy.Spotify(\n",
    "    auth=token, client_credentials_manager=SpotifyClientCredentials())"
   ]
  },
  {
   "cell_type": "code",
   "execution_count": 2,
   "metadata": {},
   "outputs": [],
   "source": [
    "artist_uris = set()\n",
    "\n",
    "offset = 0\n",
    "saved_tracks = spotify.current_user_saved_tracks(limit=50, offset=offset)\n",
    "while len(saved_tracks['items']) > 0:\n",
    "    for track in saved_tracks['items']:\n",
    "        for artist in track['track']['artists']:\n",
    "            if artist['uri'] not in artist_uris:\n",
    "                artist_uris.add(artist['uri'])\n",
    "    offset += 50\n",
    "    saved_tracks = spotify.current_user_saved_tracks(limit=50, offset=offset)"
   ]
  },
  {
   "cell_type": "code",
   "execution_count": 3,
   "metadata": {},
   "outputs": [
    {
     "data": {
      "application/vnd.jupyter.widget-view+json": {
       "model_id": "62ed1379b2c44242a3fb5f0402527533",
       "version_major": 2,
       "version_minor": 0
      },
      "text/plain": [
       "HBox(children=(FloatProgress(value=0.0, max=1379.0), HTML(value='')))"
      ]
     },
     "metadata": {},
     "output_type": "display_data"
    },
    {
     "name": "stdout",
     "output_type": "stream",
     "text": [
      "\n"
     ]
    }
   ],
   "source": [
    "from tqdm.notebook import tqdm\n",
    "\n",
    "artist_dict = {}\n",
    "frequency_dict = {}\n",
    "\n",
    "for artist_uri in tqdm(artist_uris):\n",
    "    artist_dict[artist_uri] = spotify.artist(artist_uri)\n",
    "    del artist_dict[artist_uri]['uri']\n",
    "    del artist_dict[artist_uri]['type']\n",
    "    followers = artist_dict[artist_uri]['followers']['total']\n",
    "    del artist_dict[artist_uri]['followers']['total']\n",
    "    artist_dict[artist_uri]['followers'] = followers\n",
    "    url = artist_dict[artist_uri]['external_urls']['spotify']\n",
    "    del artist_dict[artist_uri]['external_urls']\n",
    "    artist_dict[artist_uri]['url'] = url\n",
    "    artist_dict[artist_uri]['genres'] = set(artist_dict[artist_uri][\n",
    "        'genres'])\n",
    "    artist_dict[artist_uri]['images'] = {\n",
    "        image['url'] for image in artist_dict[artist_uri]['images']}\n",
    "\n",
    "    if artist_uri not in frequency_dict:\n",
    "        frequency_dict[artist_uri] = 0\n",
    "\n",
    "    results = spotify.artist_related_artists(artist_uri)\n",
    "    if len(results['artists']) == 20:\n",
    "        artist_dict[artist_uri]['related_artists'] = set()\n",
    "        index = 0\n",
    "        for result in results['artists']:\n",
    "            related_artist_uri = result['uri']\n",
    "            artist_dict[artist_uri]['related_artists'].add(\n",
    "                related_artist_uri)\n",
    "            if related_artist_uri not in artist_dict:\n",
    "                artist_dict[related_artist_uri] = result\n",
    "                del artist_dict[related_artist_uri]['uri']\n",
    "                del artist_dict[related_artist_uri]['type']\n",
    "                followers = artist_dict[related_artist_uri]['followers'][\n",
    "                    'total']\n",
    "                del artist_dict[related_artist_uri]['followers']['total']\n",
    "                artist_dict[related_artist_uri]['followers'] = followers\n",
    "                url = artist_dict[related_artist_uri]['external_urls'][\n",
    "                    'spotify']\n",
    "                del artist_dict[related_artist_uri]['external_urls']\n",
    "                artist_dict[related_artist_uri]['url'] = url\n",
    "                artist_dict[related_artist_uri]['genres'] = set(\n",
    "                    artist_dict[related_artist_uri]['genres'])\n",
    "                artist_dict[artist_uri]['images'] = {\n",
    "                    image['url'] for image in artist_dict[\n",
    "                        related_artist_uri]['images']}\n",
    "                \n",
    "            if related_artist_uri not in frequency_dict:\n",
    "                frequency_dict[related_artist_uri] = 0\n",
    "            frequency_dict[related_artist_uri] += 1\n",
    "    \n",
    "uris_to_delete = {artist for artist in frequency_dict if (frequency_dict[\n",
    "    artist] < 2) and (artist not in artist_uris)}\n",
    "\n",
    "artist_dict = {artist_uri: artist_dict[artist_uri] for artist_uri in \n",
    "               artist_dict if artist_uri not in uris_to_delete}\n",
    "\n",
    "for artist_uri in artist_dict:\n",
    "    if 'related_artists' in artist_dict[artist_uri]:\n",
    "        artist_dict[artist_uri]['related_artists'] = artist_dict[artist_uri][\n",
    "            'related_artists'] - uris_to_delete\n",
    "    for key in artist_dict[artist_uri]:\n",
    "        if type(artist_dict[artist_uri][key]) == set:\n",
    "            artist_dict[artist_uri][key] = list(artist_dict[artist_uri][key])"
   ]
  },
  {
   "cell_type": "code",
   "execution_count": 4,
   "metadata": {},
   "outputs": [],
   "source": [
    "import json\n",
    "\n",
    "with open('artist_dict.json', 'w') as file:\n",
    "    json.dump(artist_dict, file)"
   ]
  }
 ],
 "metadata": {
  "kernelspec": {
   "display_name": "Python 3",
   "language": "python",
   "name": "python3"
  },
  "language_info": {
   "codemirror_mode": {
    "name": "ipython",
    "version": 3
   },
   "file_extension": ".py",
   "mimetype": "text/x-python",
   "name": "python",
   "nbconvert_exporter": "python",
   "pygments_lexer": "ipython3",
   "version": "3.7.4"
  }
 },
 "nbformat": 4,
 "nbformat_minor": 2
}
